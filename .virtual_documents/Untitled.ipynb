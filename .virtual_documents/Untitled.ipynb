import matplotlib.pyplot as plt

# Datos de ejemplo
frecuencias = [5, 15, 22, 30, 10]  # Frecuencias de cada clase
clases = ['Clase 1', 'Clase 2', 'Clase 3', 'Clase 4', 'Clase 5']  # Nombres de las clases

# Calcular los puntos x para el polígono de frecuencias
x = [i for i in range(len(frecuencias))]

# Crear el polígono de frecuencias
plt.plot(x, frecuencias, marker='o', linestyle='-', color='b')

# Añadir etiquetas y título
plt.xticks(x, clases)  # Etiquetas en el eje x
plt.xlabel('Clases')
plt.ylabel('Frecuencias')
plt.title('Polígono de Frecuencias')

# Mostrar la gráfica
plt.grid()
plt.show()



