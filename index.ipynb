{
 "cells": [
  {
   "cell_type": "markdown",
   "id": "22056614",
   "metadata": {},
   "source": [
    "# indice\n",
    "Gráficos de estadística descriptiva realizados en notebooks."
   ]
  },
  {
   "cell_type": "markdown",
   "id": "36319869",
   "metadata": {},
   "source": [
    "# Apartado de Vinculos\n",
    "\n",
    "- [Histograma](Monse_Histograma.ipynb)\n",
    "- [Polígono de frecuencias](Miguel_Poligono_de_frecuencias.ipynb)\n",
    "- [Ojiva](brayan-ojiva.ipynb)\n",
    "- [Diagrama de barras horizontales](Diagrama_de_barras_horizontales.ipynb)\n",
    "- [Diagrama de pastel](AlbertoDiagramaPastel.ipynb)"
   ]
  },
  {
   "cell_type": "markdown",
   "id": "d369548c",
   "metadata": {},
   "source": []
  }
 ],
 "metadata": {
  "language_info": {
   "name": "python"
  }
 },
 "nbformat": 4,
 "nbformat_minor": 5
}
