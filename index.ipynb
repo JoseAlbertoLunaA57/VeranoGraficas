{
 "cells": [
  {
   "cell_type": "markdown",
   "id": "22056614",
   "metadata": {},
   "source": [
    "# indice\n",
    "Gráficos de estadística descriptiva realizados en notebooks."
   ]
  },
  {
   "cell_type": "markdown",
   "id": "36319869",
   "metadata": {},
   "source": [
    "# Apartado de Vinculos\n",
    "\n",
    "- [Histograma](Histograma.ipynb)\n",
    "- [Polígono de frecuencias](Poligono_de_frecuencias.ipynb)\n",
    "- [Ojiva](brayan-ojiva.ipynb)\n",
    "- [Diagrama de barras horizontales](brayan-grafica.ipynb)\n",
    "- [Diagrama de pastel](GraficaPastel.ipynb)"
   ]
  }
 ],
 "metadata": {
  "kernelspec": {
   "display_name": "Python 3 (ipykernel)",
   "language": "python",
   "name": "python3"
  },
  "language_info": {
   "codemirror_mode": {
    "name": "ipython",
    "version": 3
   },
   "file_extension": ".py",
   "mimetype": "text/x-python",
   "name": "python",
   "nbconvert_exporter": "python",
   "pygments_lexer": "ipython3",
   "version": "3.13.4"
  }
 },
 "nbformat": 4,
 "nbformat_minor": 5
}
